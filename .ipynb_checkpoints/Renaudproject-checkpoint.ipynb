{
 "cells": [
  {
   "cell_type": "markdown",
   "metadata": {},
   "source": [
    "# Renaud's famous first project."
   ]
  },
  {
   "cell_type": "markdown",
   "metadata": {},
   "source": [
    "### Problem statement: There is a dataset that gets pulled with some sort of frequency. We want to compare COLOR values from this table with a master mapping table, add in NUMBER values from the mapping table and create a pivot table of the results. There's one problem. Frequently, there are new values in COLOR that do not exist in the table we wish to compare."
   ]
  },
  {
   "cell_type": "markdown",
   "metadata": {
    "collapsed": true
   },
   "source": [
    "To begin, we'll import the necessary packages. It is convention to do this at the top of every script you use."
   ]
  },
  {
   "cell_type": "code",
   "execution_count": 9,
   "metadata": {
    "collapsed": true
   },
   "outputs": [],
   "source": [
    "import pandas as pd\n",
    "import numpy as np"
   ]
  },
  {
   "cell_type": "markdown",
   "metadata": {},
   "source": [
    "Let's now import our data and mapping tables. We'll then print the head or first 5 rows of each so that we know everything loaded correctly. (Note: the xlsx files have to be in the same folder as this notebook)"
   ]
  },
  {
   "cell_type": "code",
   "execution_count": 10,
   "metadata": {
    "collapsed": false
   },
   "outputs": [
    {
     "name": "stdout",
     "output_type": "stream",
     "text": [
      "    Name   COLOR\n",
      "0    Joe  Yellow\n",
      "1    Dan     Red\n",
      "2   Erin    Blue\n",
      "3   Dave    Pink\n",
      "4  Guzel   Green\n",
      "    Name   COLOR\n",
      "0    Joe  Yellow\n",
      "1    Dan     Red\n",
      "2   Erin    Blue\n",
      "3   Dave    Pink\n",
      "4  Guzel   Green\n"
     ]
    }
   ],
   "source": [
    "database = pd.read_excel('Initial_Database.xlsx')\n",
    "mapping = pd.read_excel('Mapping_color.xlsx')\n",
    "\n",
    "print(database.head())\n",
    "print(database.head())"
   ]
  },
  {
   "cell_type": "markdown",
   "metadata": {},
   "source": [
    "Since we're trying to compare **COLOR** values between each table, we will slice each by the column we need."
   ]
  },
  {
   "cell_type": "code",
   "execution_count": 11,
   "metadata": {
    "collapsed": false
   },
   "outputs": [
    {
     "name": "stdout",
     "output_type": "stream",
     "text": [
      "0    Yellow\n",
      "1       Red\n",
      "2      Blue\n",
      "3      Pink\n",
      "4     Green\n",
      "5     Black\n",
      "Name: COLOR, dtype: object\n",
      "0    Yellow\n",
      "1       Red\n",
      "2      Blue\n",
      "3      Pink\n",
      "4     Green\n",
      "Name: COLOR, dtype: object\n"
     ]
    }
   ],
   "source": [
    "dbcolor = database['COLOR']\n",
    "mapcolor = mapping['COLOR']\n",
    "\n",
    "print(dbcolor)\n",
    "print(mapcolor)"
   ]
  },
  {
   "cell_type": "markdown",
   "metadata": {},
   "source": [
    "Next comes the comparison. Pandas has a function called isin that compares whether values from one Series (our one column we sliced) are in another. We need to vary this slightly, as we're looking for the values that are *not* in the mapping table. Also, since isin returns a Series of booleans, we'll need to use it to index our dbcolor Series because we want to assign the actual values to a variable."
   ]
  },
  {
   "cell_type": "code",
   "execution_count": 12,
   "metadata": {
    "collapsed": false
   },
   "outputs": [
    {
     "name": "stdout",
     "output_type": "stream",
     "text": [
      "5    Black\n",
      "Name: COLOR, dtype: object\n"
     ]
    }
   ],
   "source": [
    "uniquevalues = dbcolor[~dbcolor.isin(mapcolor)]\n",
    "print(uniquevalues)"
   ]
  },
  {
   "cell_type": "markdown",
   "metadata": {},
   "source": [
    "Now that we have a Series of the unique values, we can add this back into the mapping table. There's one catch. We have a Series that we need to append to a DataFrame. To do this, we need to create a DataFrame with the same columns of the mapping table. "
   ]
  },
  {
   "cell_type": "code",
   "execution_count": 13,
   "metadata": {
    "collapsed": false
   },
   "outputs": [
    {
     "name": "stdout",
     "output_type": "stream",
     "text": [
      "   COLOR Number\n",
      "5  Black    NaN\n"
     ]
    }
   ],
   "source": [
    "newdf = pd.DataFrame(uniquevalues, columns=['COLOR','Number'])\n",
    "print(newdf)"
   ]
  },
  {
   "cell_type": "markdown",
   "metadata": {},
   "source": [
    "I lied. There's another catch. Since there was no data in the Number column we just created, it filled in NaN as the value for this column. Most operations in programming do not like NaN values and pivot tables are no different. We'll take care of that by filling in an obviously not correct value of 999 for now."
   ]
  },
  {
   "cell_type": "code",
   "execution_count": 14,
   "metadata": {
    "collapsed": false
   },
   "outputs": [
    {
     "name": "stdout",
     "output_type": "stream",
     "text": [
      "   COLOR  Number\n",
      "5  Black     999\n"
     ]
    }
   ],
   "source": [
    "newdf.fillna(value=999, inplace=True)\n",
    "#We need the inplace=True parameter so that we're sure it fills in 999 in the exact place of our NaNs\n",
    "print(newdf)"
   ]
  },
  {
   "cell_type": "markdown",
   "metadata": {},
   "source": [
    "All that's left now is to append **newdf** to **mapping**. This is easy."
   ]
  },
  {
   "cell_type": "code",
   "execution_count": 15,
   "metadata": {
    "collapsed": false
   },
   "outputs": [
    {
     "name": "stdout",
     "output_type": "stream",
     "text": [
      "    COLOR  Number\n",
      "0  Yellow      12\n",
      "1     Red       3\n",
      "2    Blue      45\n",
      "3    Pink       1\n",
      "4   Green      87\n",
      "5   Black     999\n"
     ]
    }
   ],
   "source": [
    "mapping = mapping.append(newdf)\n",
    "print(mapping)"
   ]
  },
  {
   "cell_type": "markdown",
   "metadata": {},
   "source": [
    "Now that we've accounted for new values, we need to merge our **database** and **mapping** tables. The merge function in Pandas is a little more explicit than vlookup in that you need to specify a direction like you would with a SQL join."
   ]
  },
  {
   "cell_type": "code",
   "execution_count": 16,
   "metadata": {
    "collapsed": false
   },
   "outputs": [
    {
     "name": "stdout",
     "output_type": "stream",
     "text": [
      "    Name   COLOR  Number\n",
      "0    Joe  Yellow      12\n",
      "1    Dan     Red       3\n",
      "2   Erin    Blue      45\n",
      "3   Dave    Pink       1\n",
      "4  Guzel   Green      87\n",
      "5  Guzel   Black     999\n"
     ]
    }
   ],
   "source": [
    "merged = database.merge(mapping, how='left', on='COLOR')\n",
    "print(merged)"
   ]
  },
  {
   "cell_type": "markdown",
   "metadata": {},
   "source": [
    "We did it! Now our data is as we'd like so that it can be pivoted. You're probably wondering about the 999. In practice, this is a value that needs to be validated manually. Renaud can now get this value and simply update it in the mapping table and all will be well. Enough about that. Let's pivot our data."
   ]
  },
  {
   "cell_type": "code",
   "execution_count": 17,
   "metadata": {
    "collapsed": false
   },
   "outputs": [
    {
     "name": "stdout",
     "output_type": "stream",
     "text": [
      "         sum\n",
      "      Number\n",
      "Name        \n",
      "Dan        3\n",
      "Dave       1\n",
      "Erin      45\n",
      "Guzel   1086\n",
      "Joe       12\n"
     ]
    }
   ],
   "source": [
    "pivot = pd.pivot_table(merged, index=['Name'], aggfunc=[np.sum])\n",
    "#In pandas, you need to specify which operation you're pivoting with the aggfunc parameter.\n",
    "#In this case, we want to sum all values so we'll use the sum function in the numpy package, hence np.sum\n",
    "#Side note: If our merged dataset was more complex, we'd need to modify our pivot_table function.\n",
    "print(pivot)"
   ]
  }
 ],
 "metadata": {
  "kernelspec": {
   "display_name": "Python 3",
   "language": "python",
   "name": "python3"
  },
  "language_info": {
   "codemirror_mode": {
    "name": "ipython",
    "version": 3
   },
   "file_extension": ".py",
   "mimetype": "text/x-python",
   "name": "python",
   "nbconvert_exporter": "python",
   "pygments_lexer": "ipython3",
   "version": "3.5.1"
  }
 },
 "nbformat": 4,
 "nbformat_minor": 2
}
